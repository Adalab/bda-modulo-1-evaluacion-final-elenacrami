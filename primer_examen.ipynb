{
 "cells": [
  {
   "cell_type": "code",
   "execution_count": 108,
   "metadata": {},
   "outputs": [],
   "source": [
    "class TiendaOnline: # creo mi clase\n",
    "    \n",
    "    def __init__(self): # no defino los atributos en el constructor ya que no quiero tener elementos predefinidos. incluyo \"self\" para poder acceder a mis atributos en los metodos\n",
    "\n",
    "        self.inventario = []\n",
    "        self.clientes = {}\n",
    "        self.ventas_totales = 0.0 # escrito con punto para indicar que al llevar decimal se considera un float\n",
    "\n",
    "\n",
    "    # metodo uno\n",
    "    def agregar_producto(self, nombre, precio, cantidad):\n",
    "\n",
    "        # creo el diccionario para el producto\n",
    "        producto = {'nombre' : nombre, \"precio\" : precio, \"cantidad\" : cantidad}\n",
    "        for item in self.inventario: # buscamos si el producto existe en el inventario\n",
    "            if item['nombre'] == nombre:\n",
    "                item['cantidad'] =+ cantidad\n",
    "                return f\"Este producto ya existe, la cantidad actualizada es {item[\"cantidad\"]}.\"\n",
    "                \n",
    "        self.inventario.append(producto) # establezco la condicion de que si el producto no existe en el inventario, lo agregamos\n",
    "        return self.inventario\n",
    "    \n",
    "    \n",
    "    # metodo dos\n",
    "    def ver_inventario(self):\n",
    "\n",
    "        for producto in self.inventario:\n",
    "            print(f\"Detalles de producto: {producto}\")\n",
    "\n",
    "    \n",
    "    # metodo tres\n",
    "    def buscar_producto(self, nombre):\n",
    "\n",
    "        for producto in self.inventario: # itero por la lista primero\n",
    "            for key, value in producto.items(): # itero por cada diccionario en la lista\n",
    "                if value == nombre: # comparo los nombres de los productos con el nombre proporcionado\n",
    "                    return f\"Detalles del producto: {producto}\"\n",
    "                \n",
    "                else:\n",
    "                    continue\n",
    "                \n",
    "        return f\"El producto {nombre} no se encuentra en el inventorio\"\n",
    "    \n",
    "\n",
    "    # metodo cuatro\n",
    "    def actualizar_stock(self, nombre, cantidad):\n",
    "\n",
    "        for producto in self.inventario: # buscamos si el producto existe en el inventario\n",
    "            if producto['nombre'] == nombre and producto['cantidad'] != cantidad:\n",
    "                    producto['cantidad'] = cantidad # actualizo la cantidad segun la entrada del usuario\n",
    "\n",
    "                    return f\"La cantidad de tu producto ha sido actualizada {producto}\"\n",
    "                            \n",
    "            else:\n",
    "                continue\n",
    "        return f\"Tu producto {nombre} no esta en el inventario.\"\n",
    "    \n",
    "\n",
    "    # metodo cinco\n",
    "    def eliminar_producto(self, nombre):\n",
    "\n",
    "        for producto in self.inventario:\n",
    "            if producto['nombre'] == nombre: \n",
    "                self.inventario.remove(producto) # elimino el producto del inventario\n",
    "                    \n",
    "                return f\"Tu prenda ha sido eliminado con exito de tu inventario {self.inventario}.\"\n",
    "\n",
    "            else:\n",
    "                continue\n",
    "        return f\"Tu producto {nombre} no esta en el inventario.\"\n",
    "    \n",
    "\n",
    "    # metodo seis\n",
    "    def calcular_valor_inventario(self):\n",
    "        lista_valores = []\n",
    "        \n",
    "        for producto in self.inventario:\n",
    "            for nombre in producto: # por cada nombre del producto, multiplicame los valores de las claves \"precio\" y \"cantidad\"\n",
    "                valor_por_producto = producto[\"precio\"] * producto[\"cantidad\"]\n",
    "                lista_valores.append(valor_por_producto)\n",
    "                valor_total = sum(lista_valores)\n",
    "\n",
    "                return f\"El valor total del inventario es de {valor_total} euros.\""
   ]
  },
  {
   "cell_type": "code",
   "execution_count": 109,
   "metadata": {},
   "outputs": [],
   "source": [
    "# creo mi instancia\n",
    "primera_tienda = TiendaOnline()\n",
    "\n",
    "primera_tienda.inventario = [{'nombre' : 'camisa', 'precio' : 20, 'cantidad' : 40}, \n",
    "                {'nombre' : 'pantalon', 'precio' : 30, 'cantidad' : 30},\n",
    "                {'nombre' : 'falda', 'precio' : 15, 'cantidad' : 5}, \n",
    "                {'nombre' : 'vestido', 'precio' : 25, 'cantidad' : 5}, \n",
    "                {'nombre' : 'guantes', 'precio' : 10, 'cantidad' : 15}]"
   ]
  },
  {
   "cell_type": "code",
   "execution_count": null,
   "metadata": {},
   "outputs": [],
   "source": [
    "primera_tienda.agregar_producto(\"calcetines\", 10, 30)"
   ]
  },
  {
   "cell_type": "code",
   "execution_count": 110,
   "metadata": {},
   "outputs": [
    {
     "name": "stdout",
     "output_type": "stream",
     "text": [
      "Detalles de producto: {'nombre': 'camisa', 'precio': 20, 'cantidad': 40}\n",
      "Detalles de producto: {'nombre': 'pantalon', 'precio': 30, 'cantidad': 30}\n",
      "Detalles de producto: {'nombre': 'falda', 'precio': 15, 'cantidad': 5}\n",
      "Detalles de producto: {'nombre': 'vestido', 'precio': 25, 'cantidad': 5}\n",
      "Detalles de producto: {'nombre': 'guantes', 'precio': 10, 'cantidad': 15}\n"
     ]
    }
   ],
   "source": [
    "primera_tienda.ver_inventario()"
   ]
  },
  {
   "cell_type": "code",
   "execution_count": 69,
   "metadata": {},
   "outputs": [
    {
     "data": {
      "text/plain": [
       "\"Detalles del producto: {'nombre': 'vestido', 'precio': 25, 'cantidad': 5}\""
      ]
     },
     "execution_count": 69,
     "metadata": {},
     "output_type": "execute_result"
    }
   ],
   "source": [
    "primera_tienda.buscar_producto(\"vestido\")"
   ]
  },
  {
   "cell_type": "code",
   "execution_count": 107,
   "metadata": {},
   "outputs": [
    {
     "data": {
      "text/plain": [
       "\"La cantidad de tu producto ha sido actualizada {'nombre': 'falda', 'precio': 15, 'cantidad': 2}\""
      ]
     },
     "execution_count": 107,
     "metadata": {},
     "output_type": "execute_result"
    }
   ],
   "source": [
    "primera_tienda.actualizar_stock(\"falda\", 2)"
   ]
  },
  {
   "cell_type": "code",
   "execution_count": 111,
   "metadata": {},
   "outputs": [
    {
     "data": {
      "text/plain": [
       "\"Tu prenda ha sido eliminado con exito de tu inventario [{'nombre': 'camisa', 'precio': 20, 'cantidad': 40}, {'nombre': 'falda', 'precio': 15, 'cantidad': 5}, {'nombre': 'vestido', 'precio': 25, 'cantidad': 5}, {'nombre': 'guantes', 'precio': 10, 'cantidad': 15}].\""
      ]
     },
     "execution_count": 111,
     "metadata": {},
     "output_type": "execute_result"
    }
   ],
   "source": [
    "primera_tienda.eliminar_producto(\"pantalon\")"
   ]
  },
  {
   "cell_type": "code",
   "execution_count": 99,
   "metadata": {},
   "outputs": [
    {
     "data": {
      "text/plain": [
       "'El valor total del inventario es de 800 euros.'"
      ]
     },
     "execution_count": 99,
     "metadata": {},
     "output_type": "execute_result"
    }
   ],
   "source": [
    "primera_tienda.calcular_valor_inventario()"
   ]
  },
  {
   "cell_type": "code",
   "execution_count": null,
   "metadata": {},
   "outputs": [],
   "source": [
    "# metodo siete\n",
    "def buscar_producto_regex(self, patron):\n",
    "    pattern =\n",
    "    for\n"
   ]
  },
  {
   "cell_type": "code",
   "execution_count": null,
   "metadata": {},
   "outputs": [],
   "source": [
    "# metodo ocho\n",
    "def realizar_compra(self):\n",
    "    while\n",
    "\n",
    "\n",
    "    return f\"El costo total de la compra es de {costo_total} euros\"\n",
    "\n",
    "print(xxxxx.realizar_compra())"
   ]
  },
  {
   "cell_type": "markdown",
   "metadata": {},
   "source": [
    "EJERCICIOS EXTRA"
   ]
  },
  {
   "cell_type": "code",
   "execution_count": null,
   "metadata": {},
   "outputs": [],
   "source": [
    "# metodo nueve\n",
    "def proceso_pago(self):"
   ]
  },
  {
   "cell_type": "code",
   "execution_count": null,
   "metadata": {},
   "outputs": [],
   "source": [
    "# metodo diez\n",
    "def agregar_cliete(self, nombre, email):"
   ]
  },
  {
   "cell_type": "code",
   "execution_count": null,
   "metadata": {},
   "outputs": [],
   "source": [
    "# metodo once\n",
    "def ver_clientes(self):"
   ]
  },
  {
   "cell_type": "code",
   "execution_count": null,
   "metadata": {},
   "outputs": [],
   "source": [
    "# metodo doce\n",
    "def registrar_compra(self, nombre_cliente, carrito):"
   ]
  },
  {
   "cell_type": "code",
   "execution_count": null,
   "metadata": {},
   "outputs": [],
   "source": [
    "# metodo trece\n",
    "def ver_compras_cliente(self, nombre_cliente):"
   ]
  },
  {
   "cell_type": "code",
   "execution_count": null,
   "metadata": {},
   "outputs": [],
   "source": [
    "# metodo catorce\n",
    "def calcular_ventas_totales(self):\n"
   ]
  },
  {
   "cell_type": "code",
   "execution_count": null,
   "metadata": {},
   "outputs": [],
   "source": [
    "# creo mi diccionario con el registro de los clientes dadole argumentos a los parametros\n",
    "registro_clientes = {'cliente1': {'email': 'cliente1@email.com', 'compras': []},\n",
    "'cliente2': {'email': 'cliente2@email.com', 'compras': []},\n",
    "'cliente3': {'email': 'cliente3@email.com', 'comprar': []},\n",
    "'cliente4': {'email': 'cliente4@email.com', 'comprar': []},\n",
    "'cliente5': {'email': 'cliente5@email.com', 'comprar': []}\n",
    "}"
   ]
  }
 ],
 "metadata": {
  "kernelspec": {
   "display_name": "base",
   "language": "python",
   "name": "python3"
  },
  "language_info": {
   "codemirror_mode": {
    "name": "ipython",
    "version": 3
   },
   "file_extension": ".py",
   "mimetype": "text/x-python",
   "name": "python",
   "nbconvert_exporter": "python",
   "pygments_lexer": "ipython3",
   "version": "3.12.4"
  }
 },
 "nbformat": 4,
 "nbformat_minor": 2
}
