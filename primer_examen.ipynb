{
 "cells": [
  {
   "cell_type": "code",
   "execution_count": 86,
   "metadata": {},
   "outputs": [],
   "source": [
    "import re\n",
    "\n",
    "class TiendaOnline: # creo mi clase\n",
    "    \n",
    "    def __init__(self): # no defino los atributos en el constructor ya que no quiero tener elementos predefinidos. incluyo \"self\" para poder acceder a mis atributos en los metodos\n",
    "\n",
    "        self.inventario = []\n",
    "        self.clientes = {}\n",
    "        self.ventas_totales = 0.0 # escrito con punto para indicar que al llevar decimal se considera un float\n",
    "\n",
    "\n",
    "    # método uno\n",
    "    def agregar_producto(self, nombre, precio, cantidad):\n",
    "\n",
    "        # creo el diccionario para el producto\n",
    "        producto = {'nombre' : nombre, \"precio\" : precio, \"cantidad\" : cantidad}\n",
    "        for item in self.inventario: # buscamos si el producto existe en el inventario\n",
    "            if item['nombre'] == nombre:\n",
    "                item['cantidad'] =+ cantidad\n",
    "                return f\"Este producto ya existe, la cantidad actualizada es {item[\"cantidad\"]}.\"\n",
    "                \n",
    "        self.inventario.append(producto) # establezco la condición de que si el producto no existe en el inventario, lo agregamos\n",
    "        return self.inventario\n",
    "    \n",
    "    \n",
    "    # método dos\n",
    "    def ver_inventario(self):\n",
    "\n",
    "        for producto in self.inventario:\n",
    "            print(f\"Detalles de producto: {producto}\")\n",
    "\n",
    "    \n",
    "    # método tres\n",
    "    def buscar_producto(self, nombre):\n",
    "\n",
    "        for producto in self.inventario: # itero por la lista primero\n",
    "            for key, value in producto.items(): # itero por cada diccionario en la lista\n",
    "                if value == nombre: # comparo los nombres de los productos con el nombre proporcionado\n",
    "                    return f\"Detalles del producto: {producto}\"\n",
    "                \n",
    "                else:\n",
    "                    continue\n",
    "                \n",
    "        return f\"El producto {nombre} no se encuentra en el inventorio\"\n",
    "    \n",
    "\n",
    "    # método cuatro\n",
    "    def actualizar_stock(self, nombre, cantidad):\n",
    "\n",
    "        for producto in self.inventario: # buscamos si el producto existe en el inventario\n",
    "            if producto['nombre'] == nombre and producto['cantidad'] != cantidad:\n",
    "                    producto['cantidad'] = cantidad # actualizo la cantidad segun la entrada del usuario\n",
    "\n",
    "                    return f\"La cantidad de tu producto ha sido actualizada {producto}\"\n",
    "                            \n",
    "            else:\n",
    "                continue\n",
    "        return f\"Tu producto {nombre} no esta en el inventario.\"\n",
    "    \n",
    "\n",
    "    # método cinco\n",
    "    def eliminar_producto(self, nombre):\n",
    "\n",
    "        for producto in self.inventario:\n",
    "            if producto['nombre'] == nombre: \n",
    "                self.inventario.remove(producto) # elimino el producto del inventario\n",
    "                    \n",
    "                return f\"Tu prenda ha sido eliminado con exito de tu inventario {self.inventario}.\"\n",
    "\n",
    "            else:\n",
    "                continue\n",
    "        return f\"Tu producto {nombre} no esta en el inventario.\"\n",
    "    \n",
    "\n",
    "    # método seis\n",
    "    def calcular_valor_inventario(self):\n",
    "        lista_valores = []\n",
    "        \n",
    "        for producto in self.inventario:\n",
    "            for nombre in producto: # por cada nombre del producto, multiplicame los valores de las claves \"precio\" y \"cantidad\"\n",
    "                valor_por_producto = producto[\"precio\"] * producto[\"cantidad\"]\n",
    "                lista_valores.append(valor_por_producto)\n",
    "                valor_total = sum(lista_valores)\n",
    "\n",
    "                return f\"El valor total del inventario es de {valor_total} euros.\"\n",
    "            \n",
    "\n",
    "    # método siete\n",
    "    # def buscar_producto_regex(self, patron):\n",
    "        lista_coincidencias = []\n",
    "        for producto in self.inventario:\n",
    "            string_producto = str(producto)\n",
    "            if re.findall(patron, string_producto):\n",
    "                lista_coincidencias.append(string_producto)\n",
    "                print(f\"{lista_coincidencias}\")\n",
    "            \n",
    "            else:\n",
    "                print(\"No he encontrado ninguna coincidencia.\")\n",
    "\n",
    "\n",
    "    # método ocho\n",
    "    def realizar_compra(self):\n",
    "        print(f\"Aqui tiene el inventario de los productos de nuestra tienda para que seleccione los que desea comprar {self.inventario}\") # Mostramos nuestro inventario al cliente \n",
    "        seguir_comprando = True\n",
    "        carrito = {} # creo un diccionario vacío de mi carrito al que ir añadiendo los productos comprados\n",
    "\n",
    "        while seguir_comprando:\n",
    "            producto_a_comprar = input(\"Introduzca el producto que desea comprar.\") # pedimos al cliente que introduzca el nombre del producto que desea comprar\n",
    "            cantidad_a_comprar = int(input(\"Introduzca la cantidad que desea comprar.\")) # pedimos al cliente que introduzca la cantidad que desea comprar de ése producto\n",
    "           \n",
    "            for producto in self.inventario:\n",
    "                if producto_a_comprar == producto['nombre'] and cantidad_a_comprar <= producto['cantidad']:\n",
    "                    print(\"Tenemos su producto disponible.\")\n",
    "                    if producto_a_comprar in carrito:\n",
    "                        carrito[producto_a_comprar]['cantidad'] += cantidad_a_comprar # hacemos la actualizacion mediante una asignacion directa para facilitar la cantidad si el producto ya esta en el carrito\n",
    "                    else:\n",
    "                        carrito[producto_a_comprar] = {'precio' : producto['precio'], 'cantidad' : cantidad_a_comprar}\n",
    "                    \n",
    "                    break # salimos del bucle for\n",
    "                \n",
    "            else:\n",
    "                print(\"Desafortunadamente, no disponemos del producto en este momento.\")\n",
    "\n",
    "            fin_compra = input(\"¿Desea seguir comprando? (si/no)\").lower() # preguntamos al cliente si quiere seguir comprando\n",
    "\n",
    "            if fin_compra != 'si':\n",
    "                seguir_comprando = False  # establezco una variable para romper el bucle\n",
    "\n",
    "        costo_total = 0\n",
    "\n",
    "        for key, value in carrito.items():\n",
    "            for producto in self.inventario:\n",
    "                if key == producto['nombre']:# si el nombre del producto en mi carrito coincide con el nombre del producto en mi inventario Y la cantidad de ése producto en mi carrito es menor que la cantidad en el inventario\n",
    "                    producto['cantidad'] -= value['cantidad'] # creo una variable para la operación que tengo que realizar: una resta entre la cantidad que tenía de ése producto y la cantidad comprada\n",
    "                    costo_total += value['precio'] * value['cantidad'] # calculo el total\n",
    "             \n",
    "\n",
    "        print(f\"El costo total de la compra es de {costo_total} euros.\")\n",
    "        print(f\"Asi queda mi inventario: {self.inventario}\")\n",
    "        return f\"Este es mi carrito: {carrito}.\""
   ]
  },
  {
   "cell_type": "code",
   "execution_count": 87,
   "metadata": {},
   "outputs": [],
   "source": [
    "# creo mi instancia\n",
    "primera_tienda = TiendaOnline()\n",
    "\n",
    "primera_tienda.inventario = [{'nombre' : 'camisa', 'precio' : 20, 'cantidad' : 40}, \n",
    "                {'nombre' : 'pantalon', 'precio' : 30, 'cantidad' : 30},\n",
    "                {'nombre' : 'falda', 'precio' : 15, 'cantidad' : 5}, \n",
    "                {'nombre' : 'vestido', 'precio' : 25, 'cantidad' : 5}, \n",
    "                {'nombre' : 'guantes', 'precio' : 10, 'cantidad' : 15}]"
   ]
  },
  {
   "cell_type": "code",
   "execution_count": null,
   "metadata": {},
   "outputs": [],
   "source": [
    "primera_tienda.agregar_producto(\"calcetines\", 10, 30)"
   ]
  },
  {
   "cell_type": "code",
   "execution_count": 110,
   "metadata": {},
   "outputs": [
    {
     "name": "stdout",
     "output_type": "stream",
     "text": [
      "Detalles de producto: {'nombre': 'camisa', 'precio': 20, 'cantidad': 40}\n",
      "Detalles de producto: {'nombre': 'pantalon', 'precio': 30, 'cantidad': 30}\n",
      "Detalles de producto: {'nombre': 'falda', 'precio': 15, 'cantidad': 5}\n",
      "Detalles de producto: {'nombre': 'vestido', 'precio': 25, 'cantidad': 5}\n",
      "Detalles de producto: {'nombre': 'guantes', 'precio': 10, 'cantidad': 15}\n"
     ]
    }
   ],
   "source": [
    "primera_tienda.ver_inventario()"
   ]
  },
  {
   "cell_type": "code",
   "execution_count": 69,
   "metadata": {},
   "outputs": [
    {
     "data": {
      "text/plain": [
       "\"Detalles del producto: {'nombre': 'vestido', 'precio': 25, 'cantidad': 5}\""
      ]
     },
     "execution_count": 69,
     "metadata": {},
     "output_type": "execute_result"
    }
   ],
   "source": [
    "primera_tienda.buscar_producto(\"vestido\")"
   ]
  },
  {
   "cell_type": "code",
   "execution_count": 107,
   "metadata": {},
   "outputs": [
    {
     "data": {
      "text/plain": [
       "\"La cantidad de tu producto ha sido actualizada {'nombre': 'falda', 'precio': 15, 'cantidad': 2}\""
      ]
     },
     "execution_count": 107,
     "metadata": {},
     "output_type": "execute_result"
    }
   ],
   "source": [
    "primera_tienda.actualizar_stock(\"falda\", 2)"
   ]
  },
  {
   "cell_type": "code",
   "execution_count": 111,
   "metadata": {},
   "outputs": [
    {
     "data": {
      "text/plain": [
       "\"Tu prenda ha sido eliminado con exito de tu inventario [{'nombre': 'camisa', 'precio': 20, 'cantidad': 40}, {'nombre': 'falda', 'precio': 15, 'cantidad': 5}, {'nombre': 'vestido', 'precio': 25, 'cantidad': 5}, {'nombre': 'guantes', 'precio': 10, 'cantidad': 15}].\""
      ]
     },
     "execution_count": 111,
     "metadata": {},
     "output_type": "execute_result"
    }
   ],
   "source": [
    "primera_tienda.eliminar_producto(\"pantalon\")"
   ]
  },
  {
   "cell_type": "code",
   "execution_count": 99,
   "metadata": {},
   "outputs": [
    {
     "data": {
      "text/plain": [
       "'El valor total del inventario es de 800 euros.'"
      ]
     },
     "execution_count": 99,
     "metadata": {},
     "output_type": "execute_result"
    }
   ],
   "source": [
    "primera_tienda.calcular_valor_inventario()"
   ]
  },
  {
   "cell_type": "code",
   "execution_count": null,
   "metadata": {},
   "outputs": [],
   "source": [
    "primera_tienda.buscar_producto_regex(r\"\\{'nombre' : '\\w+', 'precio' : \\d+, 'cantidad' : \\d+\\}\")"
   ]
  },
  {
   "cell_type": "code",
   "execution_count": null,
   "metadata": {},
   "outputs": [],
   "source": [
    "primera_tienda.realizar_compra()"
   ]
  },
  {
   "cell_type": "code",
   "execution_count": null,
   "metadata": {},
   "outputs": [],
   "source": [
    "# creo mi diccionario con el registro de los clientes dadole argumentos a los parametros\n",
    "registro_clientes = {'cliente1': {'email': 'cliente1@email.com', 'compras': []},\n",
    "'cliente2': {'email': 'cliente2@email.com', 'compras': []},\n",
    "'cliente3': {'email': 'cliente3@email.com', 'comprar': []},\n",
    "'cliente4': {'email': 'cliente4@email.com', 'comprar': []},\n",
    "'cliente5': {'email': 'cliente5@email.com', 'comprar': []}\n",
    "}"
   ]
  },
  {
   "cell_type": "markdown",
   "metadata": {},
   "source": [
    "EJERCICIOS EXTRA"
   ]
  },
  {
   "cell_type": "code",
   "execution_count": null,
   "metadata": {},
   "outputs": [],
   "source": [
    "# metodo nueve\n",
    "def proceso_pago(self):"
   ]
  },
  {
   "cell_type": "code",
   "execution_count": null,
   "metadata": {},
   "outputs": [],
   "source": [
    "primera_tienda.proceso_pago()"
   ]
  },
  {
   "cell_type": "code",
   "execution_count": null,
   "metadata": {},
   "outputs": [],
   "source": [
    "# metodo diez\n",
    "def agregar_cliente(self, nombre, email):"
   ]
  },
  {
   "cell_type": "code",
   "execution_count": null,
   "metadata": {},
   "outputs": [],
   "source": [
    "registro_clientes.agregar_cliente(nombre, email)"
   ]
  },
  {
   "cell_type": "code",
   "execution_count": null,
   "metadata": {},
   "outputs": [],
   "source": [
    "# metodo once\n",
    "def ver_clientes(self):"
   ]
  },
  {
   "cell_type": "code",
   "execution_count": null,
   "metadata": {},
   "outputs": [],
   "source": [
    "registro_clientes.ver_clientes()"
   ]
  },
  {
   "cell_type": "code",
   "execution_count": null,
   "metadata": {},
   "outputs": [],
   "source": [
    "# metodo doce\n",
    "def registrar_compra(self, nombre_cliente, carrito):"
   ]
  },
  {
   "cell_type": "code",
   "execution_count": null,
   "metadata": {},
   "outputs": [],
   "source": [
    "registro_clientes.registrar_compra(nombre_cliente, carrito)"
   ]
  },
  {
   "cell_type": "code",
   "execution_count": null,
   "metadata": {},
   "outputs": [],
   "source": [
    "# metodo trece\n",
    "def ver_compras_cliente(self, nombre_cliente):"
   ]
  },
  {
   "cell_type": "code",
   "execution_count": null,
   "metadata": {},
   "outputs": [],
   "source": [
    "registro_clientes.compras_cliente(nombre_cliente)"
   ]
  },
  {
   "cell_type": "code",
   "execution_count": null,
   "metadata": {},
   "outputs": [],
   "source": [
    "# metodo catorce\n",
    "def calcular_ventas_totales(self):\n"
   ]
  },
  {
   "cell_type": "code",
   "execution_count": null,
   "metadata": {},
   "outputs": [],
   "source": [
    "registro_clientes.calcular_ventas_totales()"
   ]
  }
 ],
 "metadata": {
  "kernelspec": {
   "display_name": "base",
   "language": "python",
   "name": "python3"
  },
  "language_info": {
   "codemirror_mode": {
    "name": "ipython",
    "version": 3
   },
   "file_extension": ".py",
   "mimetype": "text/x-python",
   "name": "python",
   "nbconvert_exporter": "python",
   "pygments_lexer": "ipython3",
   "version": "3.12.4"
  }
 },
 "nbformat": 4,
 "nbformat_minor": 2
}
